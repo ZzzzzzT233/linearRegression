{
  "cells": [
    {
      "cell_type": "markdown",
      "metadata": {
        "id": "view-in-github",
        "colab_type": "text"
      },
      "source": [
        "<a href=\"https://colab.research.google.com/github/ZzzzzzT233/linearRegression/blob/main/04_hedonic_pricing/04_hedonic_pricing.ipynb\" target=\"_parent\"><img src=\"https://colab.research.google.com/assets/colab-badge.svg\" alt=\"Open In Colab\"/></a>"
      ]
    },
    {
      "cell_type": "markdown",
      "metadata": {
        "vscode": {
          "languageId": "bat"
        },
        "id": "eQ9kdyUivJoB"
      },
      "source": [
        "# Hedonic Pricing\n",
        "\n",
        "We often try to predict the price of an asset from its observable characteristics. This is generally called **hedonic pricing**: How do the unit's characteristics determine its market price?\n",
        "\n",
        "In the lab folder, there are three options: housing prices in pierce_county_house_sales.csv, car prices in cars_hw.csv, and airbnb rental prices in airbnb_hw.csv. If you know of another suitable dataset, please feel free to use that one.\n",
        "\n",
        "1. Clean the data and perform some EDA and visualization to get to know the data set.\n",
        "2. Transform your variables --- particularly categorical ones --- for use in your regression analysis.\n",
        "3. Implement an ~80/~20 train-test split. Put the test data aside.\n",
        "4. Build some simple linear models that include no transformations or interactions. Fit them, and determine their RMSE and $R^2$ on the both the training and test sets. Which of your models does the best?\n",
        "5. Include transformations and interactions, and build a more complex model that reflects your ideas about how the features of the asset determine its value. Determine its RMSE and $R^2$ on the training and test sets. How does the more complex model your build compare to the simpler ones?\n",
        "6. Summarize your results from 1 to 5. Have you learned anything about overfitting and underfitting, or model selection?\n",
        "7. If you have time, use the sklearn.linear_model.Lasso to regularize your model and select the most predictive features. Which does it select? What are the RMSE and $R^2$? We'll cover the Lasso later in detail in class.\n",
        "\n"
      ]
    },
    {
      "cell_type": "code",
      "source": [
        "! git clone https://github.com/ZzzzzzT233/linearRegression"
      ],
      "metadata": {
        "colab": {
          "base_uri": "https://localhost:8080/"
        },
        "id": "IUF5wjULvPZA",
        "outputId": "4713902e-54cc-4877-db55-c500112bc726"
      },
      "execution_count": null,
      "outputs": [
        {
          "output_type": "stream",
          "name": "stdout",
          "text": [
            "fatal: destination path 'linearRegression' already exists and is not an empty directory.\n"
          ]
        }
      ]
    },
    {
      "cell_type": "code",
      "source": [
        "import numpy as np\n",
        "import pandas as pd\n",
        "import matplotlib.pyplot as plt\n",
        "import seaborn as sns\n",
        "from sklearn.model_selection import train_test_split\n",
        "from sklearn.linear_model import LinearRegression\n",
        "from sklearn.metrics import mean_squared_error\n",
        "\n",
        "df = pd.read_csv('linearRegression/04_hedonic_pricing/airbnb_hw.csv')\n",
        "\n",
        "print(df.dtypes, '\\n')\n",
        "\n",
        "\n",
        "print(df.head(),'\\n')"
      ],
      "metadata": {
        "colab": {
          "base_uri": "https://localhost:8080/"
        },
        "id": "HmDsBG8nw7b-",
        "outputId": "9c100dd4-a3d5-4517-dbba-feb27ff84f40"
      },
      "execution_count": null,
      "outputs": [
        {
          "output_type": "stream",
          "name": "stdout",
          "text": [
            "Host Id                         int64\n",
            "Host Since                     object\n",
            "Name                           object\n",
            "Neighbourhood                  object\n",
            "Property Type                  object\n",
            "Review Scores Rating (bin)    float64\n",
            "Room Type                      object\n",
            "Zipcode                       float64\n",
            "Beds                          float64\n",
            "Number of Records               int64\n",
            "Number Of Reviews               int64\n",
            "Price                          object\n",
            "Review Scores Rating          float64\n",
            "dtype: object \n",
            "\n",
            "    Host Id Host Since                                Name Neighbourhood   \\\n",
            "0   5162530        NaN     1 Bedroom in Prime Williamsburg       Brooklyn   \n",
            "1  33134899        NaN     Sunny, Private room in Bushwick       Brooklyn   \n",
            "2  39608626        NaN                Sunny Room in Harlem      Manhattan   \n",
            "3       500  6/26/2008  Gorgeous 1 BR with Private Balcony      Manhattan   \n",
            "4       500  6/26/2008            Trendy Times Square Loft      Manhattan   \n",
            "\n",
            "  Property Type  Review Scores Rating (bin)        Room Type  Zipcode  Beds  \\\n",
            "0     Apartment                         NaN  Entire home/apt  11249.0   1.0   \n",
            "1     Apartment                         NaN     Private room  11206.0   1.0   \n",
            "2     Apartment                         NaN     Private room  10032.0   1.0   \n",
            "3     Apartment                         NaN  Entire home/apt  10024.0   3.0   \n",
            "4     Apartment                        95.0     Private room  10036.0   3.0   \n",
            "\n",
            "   Number of Records  Number Of Reviews Price  Review Scores Rating  \n",
            "0                  1                  0   145                   NaN  \n",
            "1                  1                  1    37                   NaN  \n",
            "2                  1                  1    28                   NaN  \n",
            "3                  1                  0   199                   NaN  \n",
            "4                  1                 39   549                  96.0   \n",
            "\n"
          ]
        }
      ]
    },
    {
      "cell_type": "code",
      "source": [
        "df[\"Price\"] = df[\"Price\"].str.replace(\",\", \"\")\n",
        "df[\"Price\"] = pd.to_numeric(df[\"Price\"], errors=\"coerce\")\n",
        "print(\"Total Missings:\", sum(df[\"Price\"].isnull()),\"\\n\")\n",
        "print(df.describe(), '\\n')"
      ],
      "metadata": {
        "colab": {
          "base_uri": "https://localhost:8080/"
        },
        "id": "OeS_YBvSx9B3",
        "outputId": "ba24754c-4d1b-41e8-eab0-4379e41d8b2f"
      },
      "execution_count": null,
      "outputs": [
        {
          "output_type": "stream",
          "name": "stdout",
          "text": [
            "Total Missings: 0 \n",
            "\n",
            "            Host Id  Review Scores Rating (bin)       Zipcode          Beds  \\\n",
            "count  3.047800e+04                22155.000000  30344.000000  30393.000000   \n",
            "mean   1.273171e+07                   90.738659  10584.854831      1.530089   \n",
            "std    1.190270e+07                    9.059519    921.299397      1.015359   \n",
            "min    5.000000e+02                   20.000000   1003.000000      0.000000   \n",
            "25%    2.701298e+06                   85.000000  10017.000000      1.000000   \n",
            "50%    8.551693e+06                   90.000000  10065.000000      1.000000   \n",
            "75%    2.120617e+07                  100.000000  11216.000000      2.000000   \n",
            "max    4.303307e+07                  100.000000  99135.000000     16.000000   \n",
            "\n",
            "       Number of Records  Number Of Reviews         Price  \\\n",
            "count            30478.0       30478.000000  30478.000000   \n",
            "mean                 1.0          12.018735    163.589737   \n",
            "std                  0.0          21.980703    197.785454   \n",
            "min                  1.0           0.000000     10.000000   \n",
            "25%                  1.0           0.000000     80.000000   \n",
            "50%                  1.0           3.000000    125.000000   \n",
            "75%                  1.0          13.000000    195.000000   \n",
            "max                  1.0         257.000000  10000.000000   \n",
            "\n",
            "       Review Scores Rating  \n",
            "count          22155.000000  \n",
            "mean              91.993230  \n",
            "std                8.850373  \n",
            "min               20.000000  \n",
            "25%               89.000000  \n",
            "50%               94.000000  \n",
            "75%              100.000000  \n",
            "max              100.000000   \n",
            "\n"
          ]
        }
      ]
    },
    {
      "cell_type": "code",
      "source": [
        "def winsorize(x):\n",
        "    # Convert from pd to np, if necessary:\n",
        "    if isinstance(x, pd.Series):\n",
        "        x = x.to_numpy()\n",
        "    # Compute IQR and 25, 75 quantiles:\n",
        "    pct25, pct75 = np.percentile(x,[25,75])\n",
        "    iqr = pct75 - pct25\n",
        "    # Compute whiskers:\n",
        "    lower_whisker = pct25 - iqr*1.5\n",
        "    upper_whisker = pct75 + iqr*1.5\n",
        "    # Windorize x:\n",
        "    x_winsor = np.copy(x)\n",
        "    x_winsor[ x < lower_whisker ] = lower_whisker\n",
        "    x_winsor[ x > upper_whisker ] = upper_whisker\n",
        "    return(x_winsor)\n",
        "\n",
        "df.loc[:,['Price']].plot.box()\n",
        "df.loc[:,['Review Scores Rating']].plot.box()"
      ],
      "metadata": {
        "colab": {
          "base_uri": "https://localhost:8080/",
          "height": 861
        },
        "id": "0w7IaXkmzH6A",
        "outputId": "7fedc1f6-d62c-4712-b8ea-bab1f6314a4b"
      },
      "execution_count": null,
      "outputs": [
        {
          "output_type": "execute_result",
          "data": {
            "text/plain": [
              "<Axes: >"
            ]
          },
          "metadata": {},
          "execution_count": 65
        },
        {
          "output_type": "display_data",
          "data": {
            "text/plain": [
              "<Figure size 640x480 with 1 Axes>"
            ],
            "image/png": "[encoded data removed]"
          },
          "metadata": {}
        },
        {
          "output_type": "display_data",
          "data": {
            "text/plain": [
              "<Figure size 640x480 with 1 Axes>"
            ],
            "image/png": "[encoded data removed]"
          },
          "metadata": {}
        }
      ]
    },
    {
      "cell_type": "code",
      "source": [
        "df.loc[:,['Price']] = df.loc[:,['Price']].apply(winsorize)\n",
        "df.loc[:,['Review Scores Rating']] = df.loc[:,['Review Scores Rating']].apply(winsorize)\n",
        "\n",
        "df.loc[:,['Price']].plot.box()\n",
        "df.loc[:,['Review Scores Rating']].plot.box()"
      ],
      "metadata": {
        "colab": {
          "base_uri": "https://localhost:8080/",
          "height": 861
        },
        "id": "3wWggROn1JGK",
        "outputId": "da3ced11-f7f8-49cc-f3f5-df9a3de435e6"
      },
      "execution_count": null,
      "outputs": [
        {
          "output_type": "execute_result",
          "data": {
            "text/plain": [
              "<Axes: >"
            ]
          },
          "metadata": {},
          "execution_count": 66
        },
        {
          "output_type": "display_data",
          "data": {
            "text/plain": [
              "<Figure size 640x480 with 1 Axes>"
            ],
            "image/png": "[encoded data removed]"
          },
          "metadata": {}
        },
        {
          "output_type": "display_data",
          "data": {
            "text/plain": [
              "<Figure size 640x480 with 1 Axes>"
            ],
            "image/png": "[encoded data removed]"
          },
          "metadata": {}
        }
      ]
    },
    {
      "cell_type": "code",
      "source": [
        "print(df['Room Type'].unique(),'\\n')\n",
        "type = df['Room Type'].replace(['Entire home/apt'],\"Entire Home\")\n",
        "df['Room Type'] = type\n",
        "\n",
        "print(df['Neighbourhood '].unique(),'\\n')\n",
        "\n",
        "\n",
        "ddf = pd.get_dummies(df[['Room Type', 'Neighbourhood ']], drop_first=True, dtype='int')\n",
        "print(ddf.head())"
      ],
      "metadata": {
        "colab": {
          "base_uri": "https://localhost:8080/"
        },
        "id": "9fz4nChA2CvP",
        "outputId": "ae43f087-6b25-4f85-d05b-4819ddc1ca22"
      },
      "execution_count": null,
      "outputs": [
        {
          "output_type": "stream",
          "name": "stdout",
          "text": [
            "['Entire home/apt' 'Private room' 'Shared room'] \n",
            "\n",
            "['Brooklyn' 'Manhattan' 'Queens' 'Bronx' 'Staten Island'] \n",
            "\n",
            "   Room Type_Private room  Room Type_Shared room  Neighbourhood _Brooklyn  \\\n",
            "0                       0                      0                        1   \n",
            "1                       1                      0                        1   \n",
            "2                       1                      0                        0   \n",
            "3                       0                      0                        0   \n",
            "4                       1                      0                        0   \n",
            "\n",
            "   Neighbourhood _Manhattan  Neighbourhood _Queens  \\\n",
            "0                         0                      0   \n",
            "1                         0                      0   \n",
            "2                         1                      0   \n",
            "3                         1                      0   \n",
            "4                         1                      0   \n",
            "\n",
            "   Neighbourhood _Staten Island  \n",
            "0                             0  \n",
            "1                             0  \n",
            "2                             0  \n",
            "3                             0  \n",
            "4                             0   \n",
            "\n"
          ]
        }
      ]
    },
    {
      "cell_type": "code",
      "source": [
        "df = pd.concat([df, ddf], axis=1)\n",
        "print(df.head())"
      ],
      "metadata": {
        "colab": {
          "base_uri": "https://localhost:8080/"
        },
        "id": "5NVekhzn2m-N",
        "outputId": "4b14f2ea-97db-4b58-d509-1a1bcac77c78"
      },
      "execution_count": null,
      "outputs": [
        {
          "output_type": "stream",
          "name": "stdout",
          "text": [
            "    Host Id Host Since                                Name Neighbourhood   \\\n",
            "0   5162530        NaN     1 Bedroom in Prime Williamsburg       Brooklyn   \n",
            "1  33134899        NaN     Sunny, Private room in Bushwick       Brooklyn   \n",
            "2  39608626        NaN                Sunny Room in Harlem      Manhattan   \n",
            "3       500  6/26/2008  Gorgeous 1 BR with Private Balcony      Manhattan   \n",
            "4       500  6/26/2008            Trendy Times Square Loft      Manhattan   \n",
            "\n",
            "  Property Type  Review Scores Rating (bin)     Room Type  Zipcode  Beds  \\\n",
            "0     Apartment                         NaN   Entire Home  11249.0   1.0   \n",
            "1     Apartment                         NaN  Private room  11206.0   1.0   \n",
            "2     Apartment                         NaN  Private room  10032.0   1.0   \n",
            "3     Apartment                         NaN   Entire Home  10024.0   3.0   \n",
            "4     Apartment                        95.0  Private room  10036.0   3.0   \n",
            "\n",
            "   Number of Records  Number Of Reviews  Price  Review Scores Rating  \\\n",
            "0                  1                  0    145                   NaN   \n",
            "1                  1                  1     37                   NaN   \n",
            "2                  1                  1     28                   NaN   \n",
            "3                  1                  0    199                   NaN   \n",
            "4                  1                 39    367                  96.0   \n",
            "\n",
            "   Room Type_Private room  Room Type_Shared room  Neighbourhood _Brooklyn  \\\n",
            "0                       0                      0                        1   \n",
            "1                       1                      0                        1   \n",
            "2                       1                      0                        0   \n",
            "3                       0                      0                        0   \n",
            "4                       1                      0                        0   \n",
            "\n",
            "   Neighbourhood _Manhattan  Neighbourhood _Queens  \\\n",
            "0                         0                      0   \n",
            "1                         0                      0   \n",
            "2                         1                      0   \n",
            "3                         1                      0   \n",
            "4                         1                      0   \n",
            "\n",
            "   Neighbourhood _Staten Island  \n",
            "0                             0  \n",
            "1                             0  \n",
            "2                             0  \n",
            "3                             0  \n",
            "4                             0  \n"
          ]
        }
      ]
    }
  ],
  "metadata": {
    "kernelspec": {
      "display_name": "base",
      "language": "python",
      "name": "python3"
    },
    "language_info": {
      "codemirror_mode": {
        "name": "ipython",
        "version": 3
      },
      "file_extension": ".py",
      "mimetype": "text/x-python",
      "name": "python",
      "nbconvert_exporter": "python",
      "pygments_lexer": "ipython3",
      "version": "3.12.2"
    },
    "colab": {
      "provenance": [],
      "include_colab_link": true
    }
  },
  "nbformat": 4,
  "nbformat_minor": 0
}